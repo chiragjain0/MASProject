{
 "cells": [
  {
   "cell_type": "code",
   "execution_count": 2,
   "id": "af9e7ba2-6de8-4238-ac9f-1b4a064c625d",
   "metadata": {},
   "outputs": [],
   "source": [
    "from Rover_Canvas.rover_domain_python import *\n",
    "from enum import Enum\n"
   ]
  },
  {
   "cell_type": "code",
   "execution_count": null,
   "id": "3313a1ac-e60a-4c71-855d-d0cfb9365f01",
   "metadata": {},
   "outputs": [],
   "source": [
    "\n",
    "class Agent:\n",
    "    def __init__(self):\n",
    "        self.position = (0, 0) # (x, y) - Position world coordinates of the Agent.\n",
    "        self.forward_direction = 0 # theta - angle made by the agent with the North direction.\n",
    "        self.velocity = (0.0, 0.0)\n",
    "        self.sense_theta = 90 # theta angle for each state.\n",
    "        self.policy = []\n",
    "        self.history = [] # history[timestamp] = (x,y) - coordinates of agent at given timestamp."
   ]
  },
  {
   "cell_type": "code",
   "execution_count": null,
   "id": "d74a80d2-ba2f-4610-a622-50003c2ece44",
   "metadata": {},
   "outputs": [],
   "source": [
    "# Imports for the Forest Domain.\n",
    "import random, sys\n",
    "from random import randint\n",
    "import numpy as np\n",
    "import math\n",
    "import matplotlib.pyplot as plt"
   ]
  },
  {
   "cell_type": "code",
   "execution_count": 1,
   "id": "f32937d3-c93d-4cf1-8cb6-ee275be4c381",
   "metadata": {},
   "outputs": [],
   "source": [
    "class ForestDomain:\n",
    "    def __init__(self, args, agents):\n",
    "        self.args = args\n",
    "        self.agents = agents\n",
    "        # Env status\n",
    "        self.current_step = 0        \n",
    "        self.done = False\n",
    "        # Fire params\n",
    "        self.poi_pos = [[None, None] for _ in range(self.args.poi_count)] # list of poi[x, y] world coordinates.\n",
    "        self.poi_status = [0.0 for _ in range(self.args.poi_count)] # List of poi status: undetected=1.0, harvesting = value (1.0, 0.0), completed = 0.0.\n",
    "        self.poi_value = [1.0 for _ in range(self.args.poi_count)] # List of each poi's worth for reaching it.\n",
    "        self.poi_visitor_list = {i:[] for i in range(self.args.poi_count)} # poi_id is key to the list of agents currently at the poi.\n",
    "    \n",
    "    def reset(self):\n",
    "        self.done = False\n",
    "        self.current_step = 0\n",
    "\n",
    "        self.reset_poi()\n",
    "        self.reset_agents()\n",
    "        self.poi_visitor_list = {i:[] for i in range(self.args.poi_count)}\n",
    "        \n",
    "        "
   ]
  }
 ],
 "metadata": {
  "kernelspec": {
   "display_name": "Python 3 (ipykernel)",
   "language": "python",
   "name": "python3"
  },
  "language_info": {
   "codemirror_mode": {
    "name": "ipython",
    "version": 3
   },
   "file_extension": ".py",
   "mimetype": "text/x-python",
   "name": "python",
   "nbconvert_exporter": "python",
   "pygments_lexer": "ipython3",
   "version": "3.12.7"
  }
 },
 "nbformat": 4,
 "nbformat_minor": 5
}
